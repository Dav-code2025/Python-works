{
 "cells": [
  {
   "cell_type": "markdown",
   "id": "77d26ae5-85b2-4b96-8a15-dd1c092932e2",
   "metadata": {},
   "source": [
    "# Data Science Tools and Ecosystem"
   ]
  },
  {
   "cell_type": "markdown",
   "id": "020e5743-6d90-4244-b686-d9383d163deb",
   "metadata": {},
   "source": [
    "In this notebook, Data Science Tools and Ecosystem are summarized."
   ]
  },
  {
   "cell_type": "markdown",
   "id": "46e3b39b-0107-48da-ad17-26f3e1e1cad3",
   "metadata": {},
   "source": [
    "**Objectives:**\n",
    "\n",
    "- List popular languages for Data Science  \n",
    "- Identify open-source tools used in Data Science  \n",
    "- Understand arithmetic operations in Python  \n",
    "- Convert units using Python expressions  \n",
    "- Practice creating and formatting markdown and code cells  \n"
   ]
  },
  {
   "cell_type": "markdown",
   "id": "891f5c84-24d7-4a7a-8eed-d43b531472b1",
   "metadata": {},
   "source": [
    "Some of the popular languages that Data Scientists use are;\n",
    "1. Python\n",
    "2. R\n",
    "3. SQL"
   ]
  },
  {
   "cell_type": "markdown",
   "id": "91ddb2a5-dd60-4fbb-b9ad-cab2499e83bb",
   "metadata": {},
   "source": [
    "Some of the commonly used libraries used by Data Scientists include:\n",
    "- Panda\n",
    "- Numpy\n",
    "- Matplotlib\n",
    "- seaborn\n",
    "- scikit-learn"
   ]
  },
  {
   "cell_type": "markdown",
   "id": "b61b6d17-f03b-47c2-a30e-6feea9eba9d4",
   "metadata": {},
   "source": [
    "| Data Science Tools      |\n",
    "|-------------------------|\n",
    "| Jupyter Notebook        |\n",
    "| RStudio                 |\n",
    "| Apache Zeppelin         |\n"
   ]
  },
  {
   "cell_type": "markdown",
   "id": "66b50e79-0ca0-4c99-bb74-725ee27b0df2",
   "metadata": {},
   "source": [
    "Arithmetic expressions are fundamental operations in programming that involve numbers and operators such as addition, subtraction, multiplication, and division. They form the basis for more complex calculations and logic.\n",
    "\n",
    "### Below are a few examples of evaluating arithmetic expressions in Python\n"
   ]
  },
  {
   "cell_type": "code",
   "execution_count": 3,
   "id": "632efe3f-8fbb-4d9c-843f-57c61ea99e45",
   "metadata": {},
   "outputs": [
    {
     "data": {
      "text/plain": [
       "17"
      ]
     },
     "execution_count": 3,
     "metadata": {},
     "output_type": "execute_result"
    }
   ],
   "source": [
    "# This is a simple arithmetic expression to multiply then add integers\n",
    "(3 * 4) + 5\n"
   ]
  },
  {
   "cell_type": "code",
   "execution_count": 4,
   "id": "437eeb3a-0541-4a23-95e5-7fa2ef9e685b",
   "metadata": {},
   "outputs": [
    {
     "data": {
      "text/plain": [
       "3.3333333333333335"
      ]
     },
     "execution_count": 4,
     "metadata": {},
     "output_type": "execute_result"
    }
   ],
   "source": [
    "# This will convert 200 minutes to hours by dividing by 60\n",
    "200 / 60\n"
   ]
  },
  {
   "cell_type": "markdown",
   "id": "705cb9bc-9586-4d76-8adf-b380c4291759",
   "metadata": {},
   "source": [
    "## Author\n",
    "\n",
    "David Peter\n"
   ]
  },
  {
   "cell_type": "code",
   "execution_count": null,
   "id": "b47daa01-7cd8-456a-bef5-bd871367c4bc",
   "metadata": {},
   "outputs": [],
   "source": []
  },
  {
   "cell_type": "code",
   "execution_count": null,
   "id": "48714236-8f2d-4fae-9372-e4a7e9c6dce2",
   "metadata": {},
   "outputs": [],
   "source": []
  }
 ],
 "metadata": {
  "kernelspec": {
   "display_name": "Python 3 (ipykernel)",
   "language": "python",
   "name": "python3"
  },
  "language_info": {
   "codemirror_mode": {
    "name": "ipython",
    "version": 3
   },
   "file_extension": ".py",
   "mimetype": "text/x-python",
   "name": "python",
   "nbconvert_exporter": "python",
   "pygments_lexer": "ipython3",
   "version": "3.12.7"
  }
 },
 "nbformat": 4,
 "nbformat_minor": 5
}
